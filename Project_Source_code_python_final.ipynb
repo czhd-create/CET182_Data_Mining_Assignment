{
 "cells": [
  {
   "cell_type": "markdown",
   "id": "da782560-65c4-4379-90e9-182435fcba35",
   "metadata": {
    "tags": []
   },
   "source": [
    "## CET 182 Introduction to Data Mining\n",
    "Assignment\n",
    "\n",
    "Student Name: Cheong Zihao, Daniel \\\n",
    "Matriculation ID: "
   ]
  },
  {
   "cell_type": "markdown",
   "id": "8e5436c3-5f49-4f30-b51c-f5d4e73b31ea",
   "metadata": {},
   "source": [
    "### Data Pre-processing"
   ]
  },
  {
   "cell_type": "code",
   "execution_count": 1,
   "id": "da6d96cd-67be-417d-a73e-267ed82e8e68",
   "metadata": {},
   "outputs": [],
   "source": [
    "import os; import seaborn as sns; import pandas as pd; import numpy as np;\n",
    "from ucimlrepo import fetch_ucirepo; from sklearn.preprocessing import OneHotEncoder;\n",
    "import matplotlib.pyplot as plt; from sklearn.preprocessing import OrdinalEncoder;\n",
    "from scipy.stats import spearmanr; import session_info\n",
    "pd.options.display.max_seq_items = 150 # to show output to item length = 150\n",
    "os.chdir('C:\\\\Users\\\\dc\\\\Desktop\\\\CET 182\\\\Project') # This is our working directory"
   ]
  },
  {
   "cell_type": "markdown",
   "id": "e98c1dd1-f174-43dc-bebb-b2c995867c25",
   "metadata": {},
   "source": [
    "# If url fails to connect, run this code block.\n",
    "#====================================\n",
    "#Use downloaded text data in 2 files (adult.data.txt and adult.test.txt).\n",
    "original_train = pd.read_csv('adult.data.txt',sep=\",\",header=None)\n",
    "original_test = pd.read_csv('adult.test.txt',sep=\",\",header=None)\n",
    "df = pd.concat([original_train,original_test])\n",
    "df = pd.read_csv('adult.data', header = None)\n",
    "#url_training = 'https://archive.ics.uci.edu/ml/machine-learning-databases/adult/adult.data'\n",
    "#url_test = 'https://archive.ics.uci.edu/ml/machine-learning-databases/adult/adult.test'\n",
    "\n",
    "features = ['age','workclass','fnlwgt','education','education-num', 'marital-status','occupation',\n",
    "           'relationship','race','sex','capital-gain','capital-loss','hours-per-week','native-country','target']\n",
    "df.columns = features"
   ]
  },
  {
   "cell_type": "code",
   "execution_count": 2,
   "id": "f13c7298-9644-4605-a097-c77faa302fc2",
   "metadata": {},
   "outputs": [],
   "source": [
    "# fetch dataset (Code copied from: https://archive.ics.uci.edu/dataset/2/adult)\n",
    "adult = fetch_ucirepo(id=2) \n",
    "    # If 'ConnectionError' use manually downloaded 'Adult' dataset \n",
    "X = adult.data.features; y = adult.data.targets \n",
    "df = pd.DataFrame(data = X)\n",
    "df['target'] = y # add the target variable\n",
    "df=df.set_index(pd.Series(range(1,df.shape[0]+1)))"
   ]
  },
  {
   "cell_type": "code",
   "execution_count": 3,
   "id": "b68b558c-1764-449d-a9a1-3fdee8bfb28d",
   "metadata": {},
   "outputs": [
    {
     "name": "stdout",
     "output_type": "stream",
     "text": [
      "shape of data in (rows, columns) is (48842, 15)\n"
     ]
    },
    {
     "data": {
      "text/html": [
       "<div>\n",
       "<style scoped>\n",
       "    .dataframe tbody tr th:only-of-type {\n",
       "        vertical-align: middle;\n",
       "    }\n",
       "\n",
       "    .dataframe tbody tr th {\n",
       "        vertical-align: top;\n",
       "    }\n",
       "\n",
       "    .dataframe thead th {\n",
       "        text-align: right;\n",
       "    }\n",
       "</style>\n",
       "<table border=\"1\" class=\"dataframe\">\n",
       "  <thead>\n",
       "    <tr style=\"text-align: right;\">\n",
       "      <th></th>\n",
       "      <th>age</th>\n",
       "      <th>workclass</th>\n",
       "      <th>fnlwgt</th>\n",
       "      <th>education</th>\n",
       "      <th>education-num</th>\n",
       "      <th>marital-status</th>\n",
       "      <th>occupation</th>\n",
       "      <th>relationship</th>\n",
       "      <th>race</th>\n",
       "      <th>sex</th>\n",
       "      <th>capital-gain</th>\n",
       "      <th>capital-loss</th>\n",
       "      <th>hours-per-week</th>\n",
       "      <th>native-country</th>\n",
       "      <th>target</th>\n",
       "    </tr>\n",
       "  </thead>\n",
       "  <tbody>\n",
       "    <tr>\n",
       "      <th>48838</th>\n",
       "      <td>39</td>\n",
       "      <td>Private</td>\n",
       "      <td>215419</td>\n",
       "      <td>Bachelors</td>\n",
       "      <td>13</td>\n",
       "      <td>Divorced</td>\n",
       "      <td>Prof-specialty</td>\n",
       "      <td>Not-in-family</td>\n",
       "      <td>White</td>\n",
       "      <td>Female</td>\n",
       "      <td>0</td>\n",
       "      <td>0</td>\n",
       "      <td>36</td>\n",
       "      <td>United-States</td>\n",
       "      <td>&lt;=50K.</td>\n",
       "    </tr>\n",
       "    <tr>\n",
       "      <th>48839</th>\n",
       "      <td>64</td>\n",
       "      <td>NaN</td>\n",
       "      <td>321403</td>\n",
       "      <td>HS-grad</td>\n",
       "      <td>9</td>\n",
       "      <td>Widowed</td>\n",
       "      <td>NaN</td>\n",
       "      <td>Other-relative</td>\n",
       "      <td>Black</td>\n",
       "      <td>Male</td>\n",
       "      <td>0</td>\n",
       "      <td>0</td>\n",
       "      <td>40</td>\n",
       "      <td>United-States</td>\n",
       "      <td>&lt;=50K.</td>\n",
       "    </tr>\n",
       "    <tr>\n",
       "      <th>48840</th>\n",
       "      <td>38</td>\n",
       "      <td>Private</td>\n",
       "      <td>374983</td>\n",
       "      <td>Bachelors</td>\n",
       "      <td>13</td>\n",
       "      <td>Married-civ-spouse</td>\n",
       "      <td>Prof-specialty</td>\n",
       "      <td>Husband</td>\n",
       "      <td>White</td>\n",
       "      <td>Male</td>\n",
       "      <td>0</td>\n",
       "      <td>0</td>\n",
       "      <td>50</td>\n",
       "      <td>United-States</td>\n",
       "      <td>&lt;=50K.</td>\n",
       "    </tr>\n",
       "    <tr>\n",
       "      <th>48841</th>\n",
       "      <td>44</td>\n",
       "      <td>Private</td>\n",
       "      <td>83891</td>\n",
       "      <td>Bachelors</td>\n",
       "      <td>13</td>\n",
       "      <td>Divorced</td>\n",
       "      <td>Adm-clerical</td>\n",
       "      <td>Own-child</td>\n",
       "      <td>Asian-Pac-Islander</td>\n",
       "      <td>Male</td>\n",
       "      <td>5455</td>\n",
       "      <td>0</td>\n",
       "      <td>40</td>\n",
       "      <td>United-States</td>\n",
       "      <td>&lt;=50K.</td>\n",
       "    </tr>\n",
       "    <tr>\n",
       "      <th>48842</th>\n",
       "      <td>35</td>\n",
       "      <td>Self-emp-inc</td>\n",
       "      <td>182148</td>\n",
       "      <td>Bachelors</td>\n",
       "      <td>13</td>\n",
       "      <td>Married-civ-spouse</td>\n",
       "      <td>Exec-managerial</td>\n",
       "      <td>Husband</td>\n",
       "      <td>White</td>\n",
       "      <td>Male</td>\n",
       "      <td>0</td>\n",
       "      <td>0</td>\n",
       "      <td>60</td>\n",
       "      <td>United-States</td>\n",
       "      <td>&gt;50K.</td>\n",
       "    </tr>\n",
       "  </tbody>\n",
       "</table>\n",
       "</div>"
      ],
      "text/plain": [
       "       age     workclass  fnlwgt  education  education-num  \\\n",
       "48838   39       Private  215419  Bachelors             13   \n",
       "48839   64           NaN  321403    HS-grad              9   \n",
       "48840   38       Private  374983  Bachelors             13   \n",
       "48841   44       Private   83891  Bachelors             13   \n",
       "48842   35  Self-emp-inc  182148  Bachelors             13   \n",
       "\n",
       "           marital-status       occupation    relationship  \\\n",
       "48838            Divorced   Prof-specialty   Not-in-family   \n",
       "48839             Widowed              NaN  Other-relative   \n",
       "48840  Married-civ-spouse   Prof-specialty         Husband   \n",
       "48841            Divorced     Adm-clerical       Own-child   \n",
       "48842  Married-civ-spouse  Exec-managerial         Husband   \n",
       "\n",
       "                     race     sex  capital-gain  capital-loss  hours-per-week  \\\n",
       "48838               White  Female             0             0              36   \n",
       "48839               Black    Male             0             0              40   \n",
       "48840               White    Male             0             0              50   \n",
       "48841  Asian-Pac-Islander    Male          5455             0              40   \n",
       "48842               White    Male             0             0              60   \n",
       "\n",
       "      native-country  target  \n",
       "48838  United-States  <=50K.  \n",
       "48839  United-States  <=50K.  \n",
       "48840  United-States  <=50K.  \n",
       "48841  United-States  <=50K.  \n",
       "48842  United-States   >50K.  "
      ]
     },
     "execution_count": 3,
     "metadata": {},
     "output_type": "execute_result"
    }
   ],
   "source": [
    "print(\"shape of data in (rows, columns) is \" + str(df.shape)); df.tail()"
   ]
  },
  {
   "cell_type": "code",
   "execution_count": 4,
   "id": "50955b5b-3f25-4178-a8a9-3c2077e50992",
   "metadata": {},
   "outputs": [
    {
     "name": "stdout",
     "output_type": "stream",
     "text": [
      "['<=50K' '>50K' '<=50K.' '>50K.']\n"
     ]
    }
   ],
   "source": [
    "print(df['target'].unique())"
   ]
  },
  {
   "cell_type": "code",
   "execution_count": 5,
   "id": "69730769-3cea-418f-8260-23784759c730",
   "metadata": {},
   "outputs": [],
   "source": [
    "def cleaning_target(row):\n",
    "    if row == '<=50K': target = 0\n",
    "    elif row == '<=50K.':target=0\n",
    "    elif row == '>50K': target = 1\n",
    "    else: target = 1 # row == '>50K.'\n",
    "    return target\n",
    "df['target'] = df['target'].apply(cleaning_target)"
   ]
  },
  {
   "cell_type": "code",
   "execution_count": 6,
   "id": "2b88035a-e44f-4b0a-b95a-92194c830ada",
   "metadata": {},
   "outputs": [
    {
     "data": {
      "text/html": [
       "<div>\n",
       "<style scoped>\n",
       "    .dataframe tbody tr th:only-of-type {\n",
       "        vertical-align: middle;\n",
       "    }\n",
       "\n",
       "    .dataframe tbody tr th {\n",
       "        vertical-align: top;\n",
       "    }\n",
       "\n",
       "    .dataframe thead th {\n",
       "        text-align: right;\n",
       "    }\n",
       "</style>\n",
       "<table border=\"1\" class=\"dataframe\">\n",
       "  <thead>\n",
       "    <tr style=\"text-align: right;\">\n",
       "      <th></th>\n",
       "      <th>target</th>\n",
       "    </tr>\n",
       "  </thead>\n",
       "  <tbody>\n",
       "    <tr>\n",
       "      <th>0</th>\n",
       "      <td>0.760718</td>\n",
       "    </tr>\n",
       "    <tr>\n",
       "      <th>1</th>\n",
       "      <td>0.239282</td>\n",
       "    </tr>\n",
       "  </tbody>\n",
       "</table>\n",
       "</div>"
      ],
      "text/plain": [
       "     target\n",
       "0  0.760718\n",
       "1  0.239282"
      ]
     },
     "execution_count": 6,
     "metadata": {},
     "output_type": "execute_result"
    }
   ],
   "source": [
    "df['target'].value_counts(normalize=True).to_frame()"
   ]
  },
  {
   "cell_type": "code",
   "execution_count": 7,
   "id": "2aef1b5a-ba40-44db-9b50-a1d6e1f0271a",
   "metadata": {
    "scrolled": true,
    "tags": []
   },
   "outputs": [
    {
     "data": {
      "text/plain": [
       "47621"
      ]
     },
     "execution_count": 7,
     "metadata": {},
     "output_type": "execute_result"
    }
   ],
   "source": [
    "total_null = df.isnull().sum().sum()\n",
    "total_data_pts=(df.shape[0])*(df.shape[1])\n",
    "if (((total_null/total_data_pts)*100) < 1):  \n",
    "    df = df.dropna(axis='rows') # missing data <1%, drop the rows.\n",
    "df.shape[0]"
   ]
  },
  {
   "cell_type": "markdown",
   "id": "d0a22f09-4cc3-4e6e-9b0d-19b7248fc208",
   "metadata": {},
   "source": [
    "##### Dealing with other Missing values: The UCI Machine Learning site mentioned 3 such variables. The metadeta description mentioned that unknown values are converted to '?'"
   ]
  },
  {
   "cell_type": "code",
   "execution_count": 8,
   "id": "7f5ab796-f4a6-4133-b0af-ecd94f94d88b",
   "metadata": {},
   "outputs": [
    {
     "name": "stdout",
     "output_type": "stream",
     "text": [
      "Percentage of rows with '?' values :5.037693\n"
     ]
    }
   ],
   "source": [
    "rows_missing = df[ (df['workclass'] == '?') | (df['native-country'] == '?') | (df['occupation'] == '?') ]\n",
    "print(\"Percentage of rows with '?' values :{0:f}\".format(rows_missing.shape[0]/df.shape[0]*100) )"
   ]
  },
  {
   "cell_type": "code",
   "execution_count": 9,
   "id": "86bcbc4d-2b7c-4817-8e0a-64c5d9bceb3c",
   "metadata": {},
   "outputs": [
    {
     "data": {
      "text/plain": [
       "(2399, 15)"
      ]
     },
     "execution_count": 9,
     "metadata": {},
     "output_type": "execute_result"
    }
   ],
   "source": [
    "rows_missing.shape"
   ]
  },
  {
   "cell_type": "code",
   "execution_count": 10,
   "id": "3d8e0e1f-b2f4-4963-883f-5904c60ecdce",
   "metadata": {},
   "outputs": [],
   "source": [
    "# Lets drop these rows since a large number of the data (>94%) is still retained.\n",
    "df=df[(df['workclass'] != '?') & (df['native-country'] != '?') & (df['occupation'] != '?')]"
   ]
  },
  {
   "cell_type": "code",
   "execution_count": 11,
   "id": "ff839522-405d-49b2-9287-f6cdfbc73d18",
   "metadata": {},
   "outputs": [
    {
     "data": {
      "text/plain": [
       "(45222, 15)"
      ]
     },
     "execution_count": 11,
     "metadata": {},
     "output_type": "execute_result"
    }
   ],
   "source": [
    "df.shape"
   ]
  },
  {
   "cell_type": "code",
   "execution_count": 12,
   "id": "9e990ace-e24b-4d75-af8f-d9e47e0b1f6b",
   "metadata": {},
   "outputs": [
    {
     "data": {
      "text/plain": [
       "45175"
      ]
     },
     "execution_count": 12,
     "metadata": {},
     "output_type": "execute_result"
    }
   ],
   "source": [
    "# remove duplicate rows.\n",
    "df.drop_duplicates(inplace=True); df.shape[0]"
   ]
  },
  {
   "cell_type": "code",
   "execution_count": 13,
   "id": "86d504fc-fa0c-4962-8386-da81ed0e2416",
   "metadata": {},
   "outputs": [
    {
     "data": {
      "image/png": "[encoded data removed]",
      "text/plain": [
       "<Figure size 432x288 with 1 Axes>"
      ]
     },
     "metadata": {},
     "output_type": "display_data"
    }
   ],
   "source": [
    "# Consider if 'native-country' attribute can be dropped\n",
    "df['us_native'] = np.where(df['native-country'] == \"United-States\", 1, 0)\n",
    "pie_data = df['us_native'].value_counts()/(df['us_native'].value_counts().sum())*100\n",
    "plt.pie(pie_data, labels=[\"US_native\", \"non_US_native\"], startangle=40, autopct='%1.1f%%')\n",
    "plt.legend(title='Percentage (Native-Country)',labels=['US Native','Non-US Native'],loc='best')\n",
    "plt.show()"
   ]
  },
  {
   "cell_type": "code",
   "execution_count": 14,
   "id": "cdd7e870-f41f-43e0-a61d-7ba02a0a3ad6",
   "metadata": {},
   "outputs": [
    {
     "data": {
      "image/png": "[encoded data removed]",
      "text/plain": [
       "<Figure size 432x288 with 1 Axes>"
      ]
     },
     "metadata": {},
     "output_type": "display_data"
    }
   ],
   "source": [
    "# Similarly, majority of race is white. \n",
    "df['white'] = np.where(df['race'] == \"White\", 1, 0)\n",
    "pie_data2 = df['white'].value_counts()/(df['white'].value_counts().sum())*100\n",
    "plt.pie(pie_data2, labels = [\"White\",\"Non_White\"], startangle = 40, autopct='%1.1f%%')\n",
    "plt.legend(title='Percentage (Race)',labels=['White','Non-White'],loc='best')\n",
    "plt.show() #plt.savefig(\"race.jpg\")"
   ]
  },
  {
   "cell_type": "code",
   "execution_count": 15,
   "id": "3681df0f-1433-45eb-b4fa-a01d4c1d7a33",
   "metadata": {},
   "outputs": [
    {
     "data": {
      "text/plain": [
       "(45175, 17)"
      ]
     },
     "execution_count": 15,
     "metadata": {},
     "output_type": "execute_result"
    }
   ],
   "source": [
    "df.shape"
   ]
  },
  {
   "cell_type": "code",
   "execution_count": 16,
   "id": "d8d78c5c-b4be-4f8f-bc12-235626c7a428",
   "metadata": {},
   "outputs": [
    {
     "data": {
      "text/plain": [
       "(45154, 17)"
      ]
     },
     "execution_count": 16,
     "metadata": {},
     "output_type": "execute_result"
    }
   ],
   "source": [
    "# Subjects who do not work ('workclass' is without pay or never worked) should be removed from model training\n",
    "# as it is not expected they will have an income.\n",
    "df = df[(df['workclass'] != 'Without-pay') & (df['workclass'] != 'Never-worked')]; df.shape"
   ]
  },
  {
   "cell_type": "code",
   "execution_count": 17,
   "id": "2e77135e-d43f-4bbe-aeec-9f6989e9d51b",
   "metadata": {},
   "outputs": [
    {
     "data": {
      "text/plain": [
       "(44927, 17)"
      ]
     },
     "execution_count": 17,
     "metadata": {},
     "output_type": "execute_result"
    }
   ],
   "source": [
    "# It is not feasible that a person works >12hrs daily (>84hrs/week)--> drop these from analysis.\n",
    "df = df[df['hours-per-week'] <= 84]; df.shape"
   ]
  },
  {
   "cell_type": "code",
   "execution_count": 18,
   "id": "e9976f91-bacc-457a-8346-6bc6b9dee7f7",
   "metadata": {},
   "outputs": [
    {
     "data": {
      "text/plain": [
       "SpearmanrResult(correlation=0.9999999999999999, pvalue=0.0)"
      ]
     },
     "execution_count": 18,
     "metadata": {},
     "output_type": "execute_result"
    }
   ],
   "source": [
    "# 'education' can be dropped, as it is highly correlated to 'education-num'.\n",
    "edu_num_array = np.array(df['education-num'])\n",
    "edu_array = np.array(df['education'])\n",
    "edu_enc = OrdinalEncoder(categories=[['Preschool','1st-4th','5th-6th', '7th-8th', '9th','10th', '11th','12th','HS-grad',\n",
    "                                  'Some-college','Assoc-voc','Assoc-acdm','Bachelors','Masters','Prof-school','Doctorate']])\n",
    "edu_encoded = edu_enc.fit_transform(edu_array.reshape(-1,1)) \n",
    "spearmanr(edu_encoded, edu_num_array)"
   ]
  },
  {
   "cell_type": "code",
   "execution_count": 19,
   "id": "f187d1d9-7378-4f4e-9103-89e7d73903c7",
   "metadata": {},
   "outputs": [],
   "source": [
    "df = df.drop(columns=['education'])"
   ]
  },
  {
   "cell_type": "code",
   "execution_count": 20,
   "id": "ee2a790c-0c37-420d-864a-33051cb7535d",
   "metadata": {},
   "outputs": [],
   "source": [
    "# Creating dummy variables for each categorical variable\n",
    "def label_encode_func(series):\n",
    "    ds2=pd.DataFrame()\n",
    "    ds2=pd.get_dummies(series,prefix=series.name,prefix_sep='_')\n",
    "    return ds2\n",
    "\n",
    "do=pd.DataFrame()\n",
    "for i in range(df.shape[1]):\n",
    "    if df[df.columns[i]].dtype =='object':\n",
    "        ds1=label_encode_func(df[df.columns[i]])\n",
    "        do=pd.concat([do,ds1], sort=False, axis='columns', join = 'outer')\n",
    "\n",
    "df = pd.concat([df,do], sort=False, axis='columns', join = 'outer')"
   ]
  },
  {
   "cell_type": "code",
   "execution_count": 21,
   "id": "53c34e24-dea5-4753-8270-116a44cf2ddd",
   "metadata": {},
   "outputs": [
    {
     "data": {
      "text/plain": [
       "Index(['age', 'workclass', 'fnlwgt', 'education-num', 'marital-status',\n",
       "       'occupation', 'relationship', 'race', 'sex', 'capital-gain',\n",
       "       'capital-loss', 'hours-per-week', 'native-country', 'target',\n",
       "       'us_native', 'white', 'workclass_Federal-gov', 'workclass_Local-gov',\n",
       "       'workclass_Private', 'workclass_Self-emp-inc',\n",
       "       'workclass_Self-emp-not-inc', 'workclass_State-gov',\n",
       "       'marital-status_Divorced', 'marital-status_Married-AF-spouse',\n",
       "       'marital-status_Married-civ-spouse',\n",
       "       'marital-status_Married-spouse-absent', 'marital-status_Never-married',\n",
       "       'marital-status_Separated', 'marital-status_Widowed',\n",
       "       'occupation_Adm-clerical', 'occupation_Armed-Forces',\n",
       "       'occupation_Craft-repair', 'occupation_Exec-managerial',\n",
       "       'occupation_Farming-fishing', 'occupation_Handlers-cleaners',\n",
       "       'occupation_Machine-op-inspct', 'occupation_Other-service',\n",
       "       'occupation_Priv-house-serv', 'occupation_Prof-specialty',\n",
       "       'occupation_Protective-serv', 'occupation_Sales',\n",
       "       'occupation_Tech-support', 'occupation_Transport-moving',\n",
       "       'relationship_Husband', 'relationship_Not-in-family',\n",
       "       'relationship_Other-relative', 'relationship_Own-child',\n",
       "       'relationship_Unmarried', 'relationship_Wife',\n",
       "       'race_Amer-Indian-Eskimo', 'race_Asian-Pac-Islander', 'race_Black',\n",
       "       'race_Other', 'race_White', 'sex_Female', 'sex_Male',\n",
       "       'native-country_Cambodia', 'native-country_Canada',\n",
       "       'native-country_China', 'native-country_Columbia',\n",
       "       'native-country_Cuba', 'native-country_Dominican-Republic',\n",
       "       'native-country_Ecuador', 'native-country_El-Salvador',\n",
       "       'native-country_England', 'native-country_France',\n",
       "       'native-country_Germany', 'native-country_Greece',\n",
       "       'native-country_Guatemala', 'native-country_Haiti',\n",
       "       'native-country_Holand-Netherlands', 'native-country_Honduras',\n",
       "       'native-country_Hong', 'native-country_Hungary', 'native-country_India',\n",
       "       'native-country_Iran', 'native-country_Ireland', 'native-country_Italy',\n",
       "       'native-country_Jamaica', 'native-country_Japan', 'native-country_Laos',\n",
       "       'native-country_Mexico', 'native-country_Nicaragua',\n",
       "       'native-country_Outlying-US(Guam-USVI-etc)', 'native-country_Peru',\n",
       "       'native-country_Philippines', 'native-country_Poland',\n",
       "       'native-country_Portugal', 'native-country_Puerto-Rico',\n",
       "       'native-country_Scotland', 'native-country_South',\n",
       "       'native-country_Taiwan', 'native-country_Thailand',\n",
       "       'native-country_Trinadad&Tobago', 'native-country_United-States',\n",
       "       'native-country_Vietnam', 'native-country_Yugoslavia'],\n",
       "      dtype='object')"
      ]
     },
     "execution_count": 21,
     "metadata": {},
     "output_type": "execute_result"
    }
   ],
   "source": [
    "df.columns"
   ]
  },
  {
   "cell_type": "code",
   "execution_count": 22,
   "id": "28ccfff8-d207-4285-b5ac-5172817ee096",
   "metadata": {},
   "outputs": [],
   "source": [
    "# Categorical encoding \n",
    "workclass = df[df.columns[1]].to_list()\n",
    "marital_status = df[df.columns[4]].to_list()\n",
    "occupation = df[df.columns[5]].to_list()\n",
    "relationship = df[df.columns[6]].to_list()\n",
    "sex = df[df.columns[8]].to_list()\n",
    "\n",
    "# Workclass\n",
    "wc_list = ['Private', 'Self-emp-not-inc', 'Self-emp-inc', 'Federal-gov', 'Local-gov', 'State-gov']\n",
    "wc_num_list = [10,21,22,31,32,33]\n",
    "wc_dict = dict(zip(wc_list, wc_num_list))\n",
    "wc_mapped_list = [wc_dict[v] for v in workclass if v in wc_dict]\n",
    "df['workclass'] = pd.DataFrame(wc_mapped_list).values\n",
    "\n",
    "# Marital status\n",
    "ms_list = ['Married-civ-spouse', 'Divorced', 'Never-married', 'Separated', 'Widowed', 'Married-spouse-absent', 'Married-AF-spouse']\n",
    "ms_num_list = [11,20,30,12,40,13,14]\n",
    "ms_dict = dict(zip(ms_list,ms_num_list))\n",
    "ms_mapped_list = [ms_dict[v] for v in marital_status if v in ms_dict]\n",
    "df['marital-status'] = pd.DataFrame(ms_mapped_list).values\n",
    "\n",
    "# Occupation\n",
    "occ_list = ['Tech-support','Craft-repair','Other-service','Sales','Exec-managerial','Prof-specialty','Handlers-cleaners',\n",
    "            'Machine-op-inspct','Adm-clerical','Farming-fishing','Transport-moving','Priv-house-serv','Protective-serv','Armed-Forces']\n",
    "occ_num_list = [1,2,99,3,4,5,6,7,8,9,10,11,12,13]\n",
    "occ_dict = dict(zip(occ_list,occ_num_list))\n",
    "occ_mapped_list = [occ_dict[v] for v in occupation if v in occ_dict]\n",
    "df['occupation'] = pd.DataFrame(occ_mapped_list).values\n",
    "\n",
    "# Relationship\n",
    "rel_list = ['Wife', 'Own-child', 'Husband', 'Not-in-family', 'Other-relative', 'Unmarried']\n",
    "rel_num_list = [1,2,3,4,5,6]\n",
    "rel_dict = dict(zip(rel_list,rel_num_list))\n",
    "rel_mapped_list = [rel_dict[v] for v in relationship if v in rel_dict]\n",
    "df['relationship'] = pd.DataFrame(rel_mapped_list).values\n",
    "\n",
    "# Gender\n",
    "gend_list =['Female', 'Male']\n",
    "gend_num_list = [1,2]\n",
    "gend_dict = dict(zip(gend_list,gend_num_list))\n",
    "gend_mapped_list = [gend_dict[v] for v in sex if v in gend_dict]\n",
    "df['sex'] = pd.DataFrame(gend_mapped_list).values"
   ]
  },
  {
   "cell_type": "code",
   "execution_count": 23,
   "id": "51ac6160-4d1a-4ef8-9862-c3587abd48a0",
   "metadata": {
    "tags": []
   },
   "outputs": [
    {
     "data": {
      "image/png": "[encoded data removed]",
      "text/plain": [
       "<Figure size 432x360 with 3 Axes>"
      ]
     },
     "metadata": {
      "needs_background": "light"
     },
     "output_type": "display_data"
    }
   ],
   "source": [
    "# Check if other numeric variables can be dropped \n",
    "fig, (ax1, ax2, ax3) = plt.subplots(ncols=3, figsize=(6,5))\n",
    "sns.histplot(data=df, x='fnlwgt', hue='target', ax=ax1)\n",
    "sns.histplot(data=df, x='capital-gain', hue='target', ax=ax2)\n",
    "sns.histplot(data=df, x='capital-loss', hue='target', ax=ax3)\n",
    "fig.tight_layout()\n",
    "plt.show()"
   ]
  },
  {
   "cell_type": "markdown",
   "id": "8baad91b-d9ef-413f-ab45-e3f30500cb04",
   "metadata": {},
   "source": [
    "##### Insight - The plots of fnlwgt, capital-gain, capital-loss have a high degree of overlap (target). Predictive accuracy of the model doesn't increase by adding these variables to the model"
   ]
  },
  {
   "cell_type": "code",
   "execution_count": 24,
   "id": "544fed33-f3dd-4f68-87f4-0c184e2fdaed",
   "metadata": {},
   "outputs": [],
   "source": [
    "# Preprocessing - Standardize 'age','hours-per-week','education-num' (mean 0, variance 1)\n",
    "df=df.assign(age_scaled=lambda x:(x['age'] - x['age'].mean())/x['age'].std(),\n",
    "          hpw_scaled=lambda x:(x['hours-per-week'] - x['hours-per-week'].mean())/x['hours-per-week'].std(),\n",
    "          education_scaled=lambda x:(x['education-num'] - x['education-num'].mean())/x['education-num'].std())"
   ]
  },
  {
   "cell_type": "code",
   "execution_count": 25,
   "id": "767c3b42-493e-4b0d-88e2-f8b325dc1c78",
   "metadata": {},
   "outputs": [
    {
     "name": "stdout",
     "output_type": "stream",
     "text": [
      "Percentage of rows remaining from original dataset after pre-processing: 91.984358\n"
     ]
    }
   ],
   "source": [
    "print(\"Percentage of rows remaining from original dataset after pre-processing: {0:f}\"\\\n",
    "      .format(df.shape[0]/len(X)*100))"
   ]
  },
  {
   "cell_type": "code",
   "execution_count": 26,
   "id": "673fb4e9-8022-4949-a0dc-258fae6522f4",
   "metadata": {},
   "outputs": [
    {
     "data": {
      "text/plain": [
       "Index(['age', 'workclass', 'fnlwgt', 'education-num', 'marital-status',\n",
       "       'occupation', 'relationship', 'race', 'sex', 'capital-gain',\n",
       "       'capital-loss', 'hours-per-week', 'native-country', 'target',\n",
       "       'us_native', 'white', 'workclass_Federal-gov', 'workclass_Local-gov',\n",
       "       'workclass_Private', 'workclass_Self-emp-inc',\n",
       "       'workclass_Self-emp-not-inc', 'workclass_State-gov',\n",
       "       'marital-status_Divorced', 'marital-status_Married-AF-spouse',\n",
       "       'marital-status_Married-civ-spouse',\n",
       "       'marital-status_Married-spouse-absent', 'marital-status_Never-married',\n",
       "       'marital-status_Separated', 'marital-status_Widowed',\n",
       "       'occupation_Adm-clerical', 'occupation_Armed-Forces',\n",
       "       'occupation_Craft-repair', 'occupation_Exec-managerial',\n",
       "       'occupation_Farming-fishing', 'occupation_Handlers-cleaners',\n",
       "       'occupation_Machine-op-inspct', 'occupation_Other-service',\n",
       "       'occupation_Priv-house-serv', 'occupation_Prof-specialty',\n",
       "       'occupation_Protective-serv', 'occupation_Sales',\n",
       "       'occupation_Tech-support', 'occupation_Transport-moving',\n",
       "       'relationship_Husband', 'relationship_Not-in-family',\n",
       "       'relationship_Other-relative', 'relationship_Own-child',\n",
       "       'relationship_Unmarried', 'relationship_Wife',\n",
       "       'race_Amer-Indian-Eskimo', 'race_Asian-Pac-Islander', 'race_Black',\n",
       "       'race_Other', 'race_White', 'sex_Female', 'sex_Male',\n",
       "       'native-country_Cambodia', 'native-country_Canada',\n",
       "       'native-country_China', 'native-country_Columbia',\n",
       "       'native-country_Cuba', 'native-country_Dominican-Republic',\n",
       "       'native-country_Ecuador', 'native-country_El-Salvador',\n",
       "       'native-country_England', 'native-country_France',\n",
       "       'native-country_Germany', 'native-country_Greece',\n",
       "       'native-country_Guatemala', 'native-country_Haiti',\n",
       "       'native-country_Holand-Netherlands', 'native-country_Honduras',\n",
       "       'native-country_Hong', 'native-country_Hungary', 'native-country_India',\n",
       "       'native-country_Iran', 'native-country_Ireland', 'native-country_Italy',\n",
       "       'native-country_Jamaica', 'native-country_Japan', 'native-country_Laos',\n",
       "       'native-country_Mexico', 'native-country_Nicaragua',\n",
       "       'native-country_Outlying-US(Guam-USVI-etc)', 'native-country_Peru',\n",
       "       'native-country_Philippines', 'native-country_Poland',\n",
       "       'native-country_Portugal', 'native-country_Puerto-Rico',\n",
       "       'native-country_Scotland', 'native-country_South',\n",
       "       'native-country_Taiwan', 'native-country_Thailand',\n",
       "       'native-country_Trinadad&Tobago', 'native-country_United-States',\n",
       "       'native-country_Vietnam', 'native-country_Yugoslavia', 'age_scaled',\n",
       "       'hpw_scaled', 'education_scaled'],\n",
       "      dtype='object')"
      ]
     },
     "execution_count": 26,
     "metadata": {},
     "output_type": "execute_result"
    }
   ],
   "source": [
    "df.columns"
   ]
  },
  {
   "cell_type": "code",
   "execution_count": 27,
   "id": "fe77c06e-57d3-49df-b987-c263399275ce",
   "metadata": {},
   "outputs": [],
   "source": [
    "df=df.reset_index()"
   ]
  },
  {
   "cell_type": "code",
   "execution_count": 28,
   "id": "96d16c74-280d-46c3-b6eb-95771cafcceb",
   "metadata": {},
   "outputs": [],
   "source": [
    "df = df.drop(columns=['native-country','race'])"
   ]
  },
  {
   "cell_type": "code",
   "execution_count": 29,
   "id": "0be6a816-de61-42b7-adc5-8b0a0148faa6",
   "metadata": {},
   "outputs": [],
   "source": [
    "df.to_csv(\"df_processed_44927.csv\", header=True, index=False)"
   ]
  },
  {
   "cell_type": "markdown",
   "id": "115ee933-60d9-4a13-a9bb-8f44fc8db2ed",
   "metadata": {
    "tags": []
   },
   "source": [
    "### Training the model"
   ]
  },
  {
   "cell_type": "markdown",
   "id": "cd0da3a5-cf53-44d1-a676-ae0aae543820",
   "metadata": {},
   "source": [
    "##### The UCI ML Repository mentioned that support vector classification is among the top 5 models for baseline model performance (Best for Precision, 3rd best for Accuracy).\n",
    "##### Precision score of SVC: 87.3 ~ 88.8, \n",
    "##### Accuracy score of SVC: 79.2 ~ 80.5"
   ]
  },
  {
   "cell_type": "code",
   "execution_count": 30,
   "id": "7759a2d7-6871-464b-b78c-fe3762b4e08d",
   "metadata": {},
   "outputs": [],
   "source": [
    "# Variable selection for Training the model\n",
    "X = df.drop(columns=['index','target','age', 'workclass','marital-status','occupation', 'relationship','sex',\n",
    "                     'hours-per-week', 'us_native', 'white','fnlwgt','capital-gain','capital-loss'])\n",
    "y = df['target']"
   ]
  },
  {
   "cell_type": "code",
   "execution_count": 31,
   "id": "1bc2b13d-52b5-4f62-8db0-2483ad352e59",
   "metadata": {},
   "outputs": [],
   "source": [
    "from sklearn.model_selection import train_test_split\n",
    "\n",
    "# Split the dataset (80-20)\n",
    "X_train, X_test, y_train, y_test=train_test_split(X, y, test_size=0.2, random_state=42)"
   ]
  },
  {
   "cell_type": "code",
   "execution_count": 32,
   "id": "e05fd2e5-e5b5-4d81-86b8-df06b38a4275",
   "metadata": {},
   "outputs": [
    {
     "name": "stderr",
     "output_type": "stream",
     "text": [
      "C:\\Users\\dc\\AppData\\Roaming\\Python\\Python38\\site-packages\\sklearn\\svm\\_classes.py:32: FutureWarning: The default value of `dual` will change from `True` to `'auto'` in 1.5. Set the value of `dual` explicitly to suppress the warning.\n",
      "  warnings.warn(\n",
      "C:\\Users\\dc\\AppData\\Roaming\\Python\\Python38\\site-packages\\sklearn\\svm\\_base.py:1250: ConvergenceWarning: Liblinear failed to converge, increase the number of iterations.\n",
      "  warnings.warn(\n"
     ]
    }
   ],
   "source": [
    "# Classification Task - Support Vector Machine\n",
    "from sklearn import svm, metrics\n",
    "\n",
    "svc = svm.LinearSVC(C=1)\n",
    "svc.fit(X_train,y_train)\n",
    "\n",
    "# Predict the labels for the test set\n",
    "y_pred = svc.predict(X_test)"
   ]
  },
  {
   "cell_type": "code",
   "execution_count": 33,
   "id": "fca59914-f6a0-43d2-bb5e-53c7e5f6a007",
   "metadata": {},
   "outputs": [
    {
     "name": "stderr",
     "output_type": "stream",
     "text": [
      "C:\\Users\\dc\\AppData\\Roaming\\Python\\Python38\\site-packages\\sklearn\\svm\\_classes.py:32: FutureWarning: The default value of `dual` will change from `True` to `'auto'` in 1.5. Set the value of `dual` explicitly to suppress the warning.\n",
      "  warnings.warn(\n",
      "C:\\Users\\dc\\AppData\\Roaming\\Python\\Python38\\site-packages\\sklearn\\svm\\_base.py:1250: ConvergenceWarning: Liblinear failed to converge, increase the number of iterations.\n",
      "  warnings.warn(\n"
     ]
    }
   ],
   "source": [
    "# Classification Task - Support Vector Machine\n",
    "from sklearn import svm, metrics\n",
    "# for equal weights, remove class_weight\n",
    "svc2 = svm.LinearSVC(C=1,class_weight='balanced')\n",
    "svc2.fit(X_train,y_train)\n",
    "\n",
    "# Predict the labels for the test set\n",
    "y_pred2 = svc2.predict(X_test)"
   ]
  },
  {
   "cell_type": "code",
   "execution_count": 34,
   "id": "5ea78aa1-20e5-4108-9a57-dc2532b76b0d",
   "metadata": {},
   "outputs": [
    {
     "data": {
      "text/plain": [
       "{'C': 1,\n",
       " 'class_weight': 'balanced',\n",
       " 'dual': 'warn',\n",
       " 'fit_intercept': True,\n",
       " 'intercept_scaling': 1,\n",
       " 'loss': 'squared_hinge',\n",
       " 'max_iter': 1000,\n",
       " 'multi_class': 'ovr',\n",
       " 'penalty': 'l2',\n",
       " 'random_state': None,\n",
       " 'tol': 0.0001,\n",
       " 'verbose': 0}"
      ]
     },
     "execution_count": 34,
     "metadata": {},
     "output_type": "execute_result"
    }
   ],
   "source": [
    "svc2.get_params()"
   ]
  },
  {
   "cell_type": "code",
   "execution_count": 35,
   "id": "045403a8-c341-485d-89bd-f98ee4fd9e05",
   "metadata": {},
   "outputs": [
    {
     "name": "stdout",
     "output_type": "stream",
     "text": [
      "Equal weights\n",
      "Accuracy:0.83, Precision:0.71, F1 Score:0.62, Recall Score:0.55\n",
      "and the confusion matrix is:\n",
      "[[6244  490]\n",
      " [1024 1228]]\n",
      "Unequal weights\n",
      "Accuracy:0.77, Precision:0.53, F1 Score:0.66, Recall Score:0.88\n",
      "and the confusion matrix is:\n",
      "[[4959 1775]\n",
      " [ 272 1980]]\n"
     ]
    }
   ],
   "source": [
    "# Model performance\n",
    "#------------------\n",
    "accuracy = metrics.accuracy_score(y_test, y_pred)\n",
    "precision = metrics.precision_score(y_test, y_pred)\n",
    "f1_score = metrics.f1_score(y_test, y_pred)\n",
    "recall = metrics.recall_score(y_test, y_pred)\n",
    "confusion_matrix = metrics.confusion_matrix(y_test, y_pred)\n",
    "print(\"Equal weights\")\n",
    "print(\"Accuracy:{0:.2f}, Precision:{1:.2f}, F1 Score:{2:.2f}, Recall Score:{3:.2f}\"\n",
    "      .format(accuracy,precision,f1_score,recall))\n",
    "print(\"and the confusion matrix is:\")\n",
    "print(confusion_matrix)\n",
    "accuracy2 = metrics.accuracy_score(y_test, y_pred2)\n",
    "precision2 = metrics.precision_score(y_test, y_pred2)\n",
    "f1_score2 = metrics.f1_score(y_test, y_pred2)\n",
    "recall2 = metrics.recall_score(y_test, y_pred2)\n",
    "confusion_matrix2 = metrics.confusion_matrix(y_test, y_pred2)\n",
    "print(\"Unequal weights\")\n",
    "print(\"Accuracy:{0:.2f}, Precision:{1:.2f}, F1 Score:{2:.2f}, Recall Score:{3:.2f}\"\n",
    "      .format(accuracy2,precision2,f1_score2,recall2))\n",
    "print(\"and the confusion matrix is:\")\n",
    "print(confusion_matrix2)"
   ]
  },
  {
   "cell_type": "code",
   "execution_count": 36,
   "id": "6fb911c5-6233-4689-8100-0daf7b2f4a18",
   "metadata": {},
   "outputs": [
    {
     "data": {
      "text/html": [
       "<details>\n",
       "<summary>Click to view session information</summary>\n",
       "<pre>\n",
       "-----\n",
       "matplotlib          3.4.2\n",
       "numpy               1.24.4\n",
       "pandas              1.3.2\n",
       "scipy               1.9.3\n",
       "seaborn             0.12.2\n",
       "session_info        1.0.0\n",
       "sklearn             1.3.1\n",
       "ucimlrepo           NA\n",
       "-----\n",
       "</pre>\n",
       "<details>\n",
       "<summary>Click to view modules imported as dependencies</summary>\n",
       "<pre>\n",
       "PIL                 8.2.0\n",
       "anyio               NA\n",
       "attr                20.3.0\n",
       "babel               2.9.1\n",
       "backcall            0.2.0\n",
       "certifi             2021.10.08\n",
       "cffi                1.14.5\n",
       "charset_normalizer  2.0.7\n",
       "colorama            0.4.4\n",
       "cycler              0.10.0\n",
       "cython_runtime      NA\n",
       "dateutil            2.8.1\n",
       "decorator           5.0.7\n",
       "entrypoints         0.3\n",
       "idna                3.3\n",
       "ipykernel           5.5.3\n",
       "ipython_genutils    0.2.0\n",
       "ipywidgets          7.6.3\n",
       "jedi                0.18.0\n",
       "jinja2              2.11.3\n",
       "joblib              1.2.0\n",
       "json5               NA\n",
       "jsonschema          3.2.0\n",
       "jupyter_server      1.11.1\n",
       "jupyterlab_server   2.8.2\n",
       "kiwisolver          1.3.1\n",
       "markupsafe          1.1.1\n",
       "mpl_toolkits        NA\n",
       "nbclassic           NA\n",
       "nbformat            5.1.3\n",
       "nt                  NA\n",
       "ntsecuritycon       NA\n",
       "packaging           23.0\n",
       "parso               0.8.2\n",
       "pickleshare         0.7.5\n",
       "prometheus_client   NA\n",
       "prompt_toolkit      3.0.18\n",
       "psutil              5.8.0\n",
       "pvectorc            NA\n",
       "pygments            2.8.1\n",
       "pyparsing           2.4.7\n",
       "pyrsistent          NA\n",
       "pythoncom           NA\n",
       "pytz                2021.1\n",
       "pywin32_bootstrap   NA\n",
       "pywintypes          NA\n",
       "requests            2.28.2\n",
       "send2trash          NA\n",
       "simplejson          3.17.5\n",
       "six                 1.15.0\n",
       "sniffio             1.2.0\n",
       "statsmodels         0.13.5\n",
       "storemagic          NA\n",
       "terminado           0.9.4\n",
       "threadpoolctl       3.2.0\n",
       "tornado             6.1\n",
       "traitlets           5.0.5\n",
       "typing_extensions   NA\n",
       "urllib3             1.26.7\n",
       "wcwidth             0.2.5\n",
       "websocket           1.2.1\n",
       "win32api            NA\n",
       "win32com            NA\n",
       "win32security       NA\n",
       "winpty              1.0.1\n",
       "zmq                 22.0.3\n",
       "</pre>\n",
       "</details> <!-- seems like this ends pre, so might as well be explicit -->\n",
       "<pre>\n",
       "-----\n",
       "IPython             7.22.0\n",
       "jupyter_client      6.1.12\n",
       "jupyter_core        4.7.1\n",
       "jupyterlab          3.2.0\n",
       "notebook            6.3.0\n",
       "-----\n",
       "Python 3.8.2 (tags/v3.8.2:7b3ab59, Feb 25 2020, 23:03:10) [MSC v.1916 64 bit (AMD64)]\n",
       "Windows-10-10.0.19041-SP0\n",
       "-----\n",
       "Session information updated at 2023-11-24 09:20\n",
       "</pre>\n",
       "</details>"
      ],
      "text/plain": [
       "<IPython.core.display.HTML object>"
      ]
     },
     "execution_count": 36,
     "metadata": {},
     "output_type": "execute_result"
    }
   ],
   "source": [
    "session_info.show()"
   ]
  },
  {
   "cell_type": "code",
   "execution_count": null,
   "id": "84015762-5223-447f-8664-8632856d35e3",
   "metadata": {},
   "outputs": [],
   "source": []
  },
  {
   "cell_type": "code",
   "execution_count": null,
   "id": "ab76fa5d-eb27-4cf4-aa04-e68e7a300942",
   "metadata": {},
   "outputs": [],
   "source": []
  }
 ],
 "metadata": {
  "kernelspec": {
   "display_name": "Python 3",
   "language": "python",
   "name": "python3"
  },
  "language_info": {
   "codemirror_mode": {
    "name": "ipython",
    "version": 3
   },
   "file_extension": ".py",
   "mimetype": "text/x-python",
   "name": "python",
   "nbconvert_exporter": "python",
   "pygments_lexer": "ipython3",
   "version": "3.8.2"
  }
 },
 "nbformat": 4,
 "nbformat_minor": 5
}
