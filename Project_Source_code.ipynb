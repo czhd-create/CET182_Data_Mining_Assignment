{
 "cells": [
  {
   "cell_type": "markdown",
   "id": "da782560-65c4-4379-90e9-182435fcba35",
   "metadata": {
    "tags": []
   },
   "source": [
    "## CET 182 Introduction to Data Mining\n",
    "Assignment\n",
    "\n",
    "Student Name: Cheong Zihao, Daniel \\\n",
    "Matriculation ID: "
   ]
  },
  {
   "cell_type": "markdown",
   "id": "8e5436c3-5f49-4f30-b51c-f5d4e73b31ea",
   "metadata": {},
   "source": [
    "### Data Pre-processing"
   ]
  },
  {
   "cell_type": "code",
   "execution_count": 1,
   "id": "da6d96cd-67be-417d-a73e-267ed82e8e68",
   "metadata": {},
   "outputs": [],
   "source": [
    "import os; import seaborn as sns; import pandas as pd; import numpy as np;\n",
    "from ucimlrepo import fetch_ucirepo; from sklearn.preprocessing import OneHotEncoder;\n",
    "import matplotlib.pyplot as plt; from sklearn.preprocessing import OrdinalEncoder;\n",
    "from scipy.stats import spearmanr; import session_info\n",
    "os.chdir('C:\\\\Users\\\\dc\\\\Desktop\\\\CET 182\\\\Project') # This is our working directory"
   ]
  },
  {
   "cell_type": "code",
   "execution_count": 2,
   "id": "f13c7298-9644-4605-a097-c77faa302fc2",
   "metadata": {},
   "outputs": [],
   "source": [
    "# fetch dataset (Code copied from: https://archive.ics.uci.edu/dataset/2/adult)\n",
    "adult = fetch_ucirepo(id=2) \n",
    "    # If 'ConnectionError' use Manual download 'Adult' dataset \n",
    "X = adult.data.features; y = adult.data.targets \n",
    "df = pd.DataFrame(data = adult.data.features)\n",
    "df['target'] = y # add the target variable\n",
    "df=df.set_index(pd.Series(range(1,df.shape[0]+1)))"
   ]
  },
  {
   "cell_type": "code",
   "execution_count": 3,
   "id": "be2f2b25-db38-4341-bf45-c52b7389351d",
   "metadata": {},
   "outputs": [],
   "source": [
    "# If url fails, run this code block.\n",
    "#====================================\n",
    "# Use downloaded text data in 2 files (adult.data.txt and adult.test.txt).\n",
    "#original_train = pd.read_csv('adult.data.txt',sep=\",\",header=None)\n",
    "#original_test = pd.read_csv('adult.test.txt',sep=\",\",header=None)\n",
    "#df = pd.concat([original_train,original_test])\n",
    "#df=df.set_index(pd.Series(range(1,df.shape[0]+1)))\n",
    "#url_training = 'https://archive.ics.uci.edu/ml/machine-learning-databases/adult/adult.data'\n",
    "#url_test = 'https://archive.ics.uci.edu/ml/machine-learning-databases/adult/adult.test'\n",
    "\n",
    "#features = ['age','workclass','fnlwgt','education','education-num', 'marital-status','occupation',\n",
    "#           'relationship','race','sex','capital-gain','capital-loss','hours-per-week','native-country','target']\n",
    "#df.columns = features\n",
    "#df=df.set_index(pd.Series(range(1,df.shape[0]+1)))"
   ]
  },
  {
   "cell_type": "code",
   "execution_count": 4,
   "id": "b68b558c-1764-449d-a9a1-3fdee8bfb28d",
   "metadata": {},
   "outputs": [
    {
     "name": "stdout",
     "output_type": "stream",
     "text": [
      "shape of data in (rows, columns) is (48842, 15)\n"
     ]
    }
   ],
   "source": [
    "print(\"shape of data in (rows, columns) is \" + str(df.shape)); # df.tail()"
   ]
  },
  {
   "cell_type": "code",
   "execution_count": 5,
   "id": "9e990ace-e24b-4d75-af8f-d9e47e0b1f6b",
   "metadata": {},
   "outputs": [
    {
     "data": {
      "text/plain": [
       "48813"
      ]
     },
     "execution_count": 5,
     "metadata": {},
     "output_type": "execute_result"
    }
   ],
   "source": [
    "# Our first preprocessing step is to remove duplicate rows.\n",
    "df.drop_duplicates(inplace=True); df.shape[0]"
   ]
  },
  {
   "cell_type": "code",
   "execution_count": 6,
   "id": "50955b5b-3f25-4178-a8a9-3c2077e50992",
   "metadata": {},
   "outputs": [
    {
     "name": "stdout",
     "output_type": "stream",
     "text": [
      "['<=50K' '>50K' '<=50K.' '>50K.']\n"
     ]
    }
   ],
   "source": [
    "print(df['target'].unique())"
   ]
  },
  {
   "cell_type": "code",
   "execution_count": 7,
   "id": "69730769-3cea-418f-8260-23784759c730",
   "metadata": {},
   "outputs": [],
   "source": [
    "def cleaning_target(row):\n",
    "    if row == '<=50K': target = 0\n",
    "    elif row == '<=50K.':target=0\n",
    "    elif row == '>50K': target = 1\n",
    "    else: target = 1 # row == '>50K.'\n",
    "    return target\n",
    "df['target'] = df['target'].apply(cleaning_target)"
   ]
  },
  {
   "cell_type": "code",
   "execution_count": 8,
   "id": "2b88035a-e44f-4b0a-b95a-92194c830ada",
   "metadata": {},
   "outputs": [
    {
     "data": {
      "text/html": [
       "<div>\n",
       "<style scoped>\n",
       "    .dataframe tbody tr th:only-of-type {\n",
       "        vertical-align: middle;\n",
       "    }\n",
       "\n",
       "    .dataframe tbody tr th {\n",
       "        vertical-align: top;\n",
       "    }\n",
       "\n",
       "    .dataframe thead th {\n",
       "        text-align: right;\n",
       "    }\n",
       "</style>\n",
       "<table border=\"1\" class=\"dataframe\">\n",
       "  <thead>\n",
       "    <tr style=\"text-align: right;\">\n",
       "      <th></th>\n",
       "      <th>target</th>\n",
       "    </tr>\n",
       "  </thead>\n",
       "  <tbody>\n",
       "    <tr>\n",
       "      <th>0</th>\n",
       "      <td>0.760617</td>\n",
       "    </tr>\n",
       "    <tr>\n",
       "      <th>1</th>\n",
       "      <td>0.239383</td>\n",
       "    </tr>\n",
       "  </tbody>\n",
       "</table>\n",
       "</div>"
      ],
      "text/plain": [
       "     target\n",
       "0  0.760617\n",
       "1  0.239383"
      ]
     },
     "execution_count": 8,
     "metadata": {},
     "output_type": "execute_result"
    }
   ],
   "source": [
    "df['target'].value_counts(normalize=True).to_frame()"
   ]
  },
  {
   "cell_type": "code",
   "execution_count": 9,
   "id": "2aef1b5a-ba40-44db-9b50-a1d6e1f0271a",
   "metadata": {
    "scrolled": true,
    "tags": []
   },
   "outputs": [
    {
     "name": "stdout",
     "output_type": "stream",
     "text": [
      "(47592, 15)\n"
     ]
    }
   ],
   "source": [
    "total_null = df.isnull().sum().sum()\n",
    "total_data_pts=(df.shape[0])*(df.shape[1])\n",
    "if (((total_null/total_data_pts)*100) < 1):  \n",
    "    df = df.dropna(axis='rows') # missing data <1%, drop the rows.\n",
    "print(df.shape)"
   ]
  },
  {
   "cell_type": "markdown",
   "id": "d0a22f09-4cc3-4e6e-9b0d-19b7248fc208",
   "metadata": {},
   "source": [
    "##### Dealing with other Missing values: The UCI Machine Learning site mentioned 3 such variables. The metadeta description mentioned that native-country is '?' if unknown. \n",
    "##### '?' may be in the other variables as well. Lets create a subset of the missing data."
   ]
  },
  {
   "cell_type": "code",
   "execution_count": 10,
   "id": "7f5ab796-f4a6-4133-b0af-ecd94f94d88b",
   "metadata": {},
   "outputs": [
    {
     "name": "stdout",
     "output_type": "stream",
     "text": [
      "Percentage of rows with '?' values :5.038662\n"
     ]
    }
   ],
   "source": [
    "rows_missing = df[ (df['workclass'] == '?') | (df['native-country'] == '?') | (df['occupation'] == '?') ]\n",
    "print(\"Percentage of rows with '?' values :{0:f}\".format(rows_missing.shape[0]/df.shape[0]*100) )"
   ]
  },
  {
   "cell_type": "code",
   "execution_count": 11,
   "id": "9cf8985f-ec33-4e47-8212-5ddd02fa9b97",
   "metadata": {},
   "outputs": [
    {
     "data": {
      "text/plain": [
       "2398"
      ]
     },
     "execution_count": 11,
     "metadata": {},
     "output_type": "execute_result"
    }
   ],
   "source": [
    "rows_missing.shape[0]"
   ]
  },
  {
   "cell_type": "code",
   "execution_count": 12,
   "id": "3d8e0e1f-b2f4-4963-883f-5904c60ecdce",
   "metadata": {},
   "outputs": [],
   "source": [
    "# Lets drop these rows since a large number of the data (>94%) is still retained.\n",
    "df=df[(df['workclass'] != '?') & (df['native-country'] != '?') & (df['occupation'] != '?')]"
   ]
  },
  {
   "cell_type": "code",
   "execution_count": 13,
   "id": "86d504fc-fa0c-4962-8386-da81ed0e2416",
   "metadata": {},
   "outputs": [
    {
     "data": {
      "image/png": "[encoded data removed]",
      "text/plain": [
       "<Figure size 432x288 with 1 Axes>"
      ]
     },
     "metadata": {},
     "output_type": "display_data"
    }
   ],
   "source": [
    "# Consider if 'native-country' attribute can be dropped\n",
    "df['US_native'] = np.where(df['native-country'] == \"United-States\", 1, 0)\n",
    "pie_data = df['US_native'].value_counts()/(df['US_native'].value_counts().sum())*100\n",
    "mylabels = [\"US_native\", \"non_US_native\"]\n",
    "plt.pie(pie_data, labels = mylabels, startangle = 40, autopct='%1.1f%%')\n",
    "plt.legend(title='Percentage (Native-Country)',labels=['US Native','Non-US Native'],loc='best')\n",
    "plt.show()\n"
   ]
  },
  {
   "cell_type": "code",
   "execution_count": 14,
   "id": "1141226a-18ed-4179-a4f6-1400d6487581",
   "metadata": {},
   "outputs": [],
   "source": [
    "df= df.drop(columns= ['native-country','US_native'])"
   ]
  },
  {
   "cell_type": "code",
   "execution_count": 15,
   "id": "cdd7e870-f41f-43e0-a61d-7ba02a0a3ad6",
   "metadata": {},
   "outputs": [
    {
     "data": {
      "image/png": "[encoded data removed]",
      "text/plain": [
       "<Figure size 432x288 with 1 Axes>"
      ]
     },
     "metadata": {},
     "output_type": "display_data"
    }
   ],
   "source": [
    "# Similarly, majority of race is white. \n",
    "df['race2'] = np.where(df['race'] == \"White\", 1, 0)\n",
    "pie_data = df['race2'].value_counts()/(df['race2'].value_counts().sum())*100\n",
    "mylabels = [\"White\", \"non_White\"]\n",
    "plt.pie(pie_data, labels = mylabels, startangle = 40, autopct='%1.1f%%')\n",
    "plt.legend(title='Percentage (Race)',labels=['White','Non-White'],loc='best')\n",
    "plt.savefig(\"race.jpg\")\n",
    "plt.show()"
   ]
  },
  {
   "cell_type": "code",
   "execution_count": 16,
   "id": "c0a2338f-1856-4125-a22b-a9f9c7ad168f",
   "metadata": {},
   "outputs": [],
   "source": [
    "df= df.drop(columns= ['race','race2'])"
   ]
  },
  {
   "cell_type": "code",
   "execution_count": 17,
   "id": "d8d78c5c-b4be-4f8f-bc12-235626c7a428",
   "metadata": {},
   "outputs": [
    {
     "data": {
      "text/plain": [
       "(45173, 13)"
      ]
     },
     "execution_count": 17,
     "metadata": {},
     "output_type": "execute_result"
    }
   ],
   "source": [
    "# Subjects who do not work ('workclass' is without pay or never worked) should be removed from model training\n",
    "# as it is not expected they will have an income.\n",
    "df = df[(df['workclass'] != 'Without-pay') & (df['workclass'] != 'Never-worked')]; df.shape"
   ]
  },
  {
   "cell_type": "code",
   "execution_count": 18,
   "id": "2e77135e-d43f-4bbe-aeec-9f6989e9d51b",
   "metadata": {},
   "outputs": [],
   "source": [
    "# It is not feasible that a person works >12hrs daily (>84hrs/week)--> drop these from analysis.\n",
    "df = df[df['hours-per-week'] <= 84]"
   ]
  },
  {
   "cell_type": "code",
   "execution_count": 19,
   "id": "e9976f91-bacc-457a-8346-6bc6b9dee7f7",
   "metadata": {},
   "outputs": [
    {
     "data": {
      "text/plain": [
       "SpearmanrResult(correlation=0.9999999999999999, pvalue=0.0)"
      ]
     },
     "execution_count": 19,
     "metadata": {},
     "output_type": "execute_result"
    }
   ],
   "source": [
    "# 'education' can be dropped as well, as it is highly correlated to 'education-num'.\n",
    "edu_num_array = np.array(df['education-num'])\n",
    "edu_array = np.array(df['education'])\n",
    "edu_enc = OrdinalEncoder(categories=[['Preschool','1st-4th','5th-6th', '7th-8th', '9th','10th', '11th','12th','HS-grad',\n",
    "                                  'Some-college','Assoc-voc','Assoc-acdm','Bachelors','Masters','Prof-school','Doctorate']])\n",
    "edu_encoded = edu_enc.fit_transform(edu_array.reshape(-1,1)) \n",
    "spearmanr(edu_encoded, edu_num_array)"
   ]
  },
  {
   "cell_type": "code",
   "execution_count": 20,
   "id": "f71d45fd-de00-4ecb-8b32-301ff4cf4588",
   "metadata": {},
   "outputs": [],
   "source": [
    "df = df.drop(columns = ['education'])\n",
    "\n",
    "# Creating dummy variables for each categorical variable\n",
    "#one_hot_enc = OneHotEncoder(handle_unknown='ignore') # from sklearn.preprocessing module\n",
    "def label_encode_func(series):\n",
    "    ds2=pd.DataFrame()\n",
    "    ds2=pd.get_dummies(series,prefix=series.name,prefix_sep='_')\n",
    "    return ds2\n",
    "\n",
    "do=pd.DataFrame()\n",
    "for i in range(df.shape[1]):\n",
    "    if df[df.columns[i]].dtype =='object':\n",
    "        ds1=label_encode_func(df[df.columns[i]])\n",
    "        do=pd.concat([do,ds1], sort=False, axis='columns', join = 'outer')"
   ]
  },
  {
   "cell_type": "code",
   "execution_count": 21,
   "id": "341c9689-8448-4a32-9364-b9b14ab4e915",
   "metadata": {},
   "outputs": [],
   "source": [
    "df = pd.concat([df,do], sort=False, axis='columns', join = 'outer')"
   ]
  },
  {
   "cell_type": "code",
   "execution_count": 22,
   "id": "51ac6160-4d1a-4ef8-9862-c3587abd48a0",
   "metadata": {},
   "outputs": [
    {
     "data": {
      "image/png": "[encoded data removed]",
      "text/plain": [
       "<Figure size 432x360 with 3 Axes>"
      ]
     },
     "metadata": {
      "needs_background": "light"
     },
     "output_type": "display_data"
    }
   ],
   "source": [
    "# Check if other numeric variables can be dropped \n",
    "fig, (ax1, ax2, ax3) = plt.subplots(ncols=3, figsize=(6,5))\n",
    "sns.histplot(data=df, x='fnlwgt', hue='target', ax=ax1)\n",
    "sns.histplot(data=df, x='capital-gain', hue='target', ax=ax2)\n",
    "sns.histplot(data=df, x='capital-loss', hue='target', ax=ax3)\n",
    "fig.tight_layout()\n",
    "plt.show()"
   ]
  },
  {
   "cell_type": "markdown",
   "id": "8baad91b-d9ef-413f-ab45-e3f30500cb04",
   "metadata": {},
   "source": [
    "##### Insight - fnlwgt, capital-gain, capital-loss seemed not well differentiated by target. Many of them are 0 values. These variables are less helpful for model training."
   ]
  },
  {
   "cell_type": "code",
   "execution_count": 23,
   "id": "544fed33-f3dd-4f68-87f4-0c184e2fdaed",
   "metadata": {},
   "outputs": [],
   "source": [
    "# Preprocessing - Standardize 'age','hours-per-week','education-num' (mean 0, variance 1)\n",
    "df=df.assign(age_scaled=lambda x:(x['age'] - x['age'].mean())/x['age'].std(),\n",
    "          hpw_scaled=lambda x:(x['hours-per-week'] - x['hours-per-week'].mean())/x['hours-per-week'].std(),\n",
    "          education_scaled=lambda x:(x['education-num'] - x['education-num'].mean())/x['education-num'].std())"
   ]
  },
  {
   "cell_type": "code",
   "execution_count": 24,
   "id": "767c3b42-493e-4b0d-88e2-f8b325dc1c78",
   "metadata": {},
   "outputs": [
    {
     "name": "stdout",
     "output_type": "stream",
     "text": [
      "Percentage of rows remaining from original dataset after pre-processing: 92.023259\n"
     ]
    }
   ],
   "source": [
    "print(\"Percentage of rows remaining from original dataset after pre-processing: {0:f}\"\\\n",
    "      .format(df.shape[0]/len(X)*100))"
   ]
  },
  {
   "cell_type": "markdown",
   "id": "115ee933-60d9-4a13-a9bb-8f44fc8db2ed",
   "metadata": {
    "tags": []
   },
   "source": [
    "### Training the model"
   ]
  },
  {
   "cell_type": "markdown",
   "id": "cd0da3a5-cf53-44d1-a676-ae0aae543820",
   "metadata": {},
   "source": [
    "##### The UCI ML Repository mentioned that support vector classification is among the top 5 models for baseline model performance (Best for Precision, 3rd best for Accuracy).\n",
    "##### Precision score of SVC: 87.3 ~ 88.8, \n",
    "##### Accuracy score of SVC: 79.2 ~ 80.5"
   ]
  },
  {
   "cell_type": "code",
   "execution_count": 25,
   "id": "7759a2d7-6871-464b-b78c-fe3762b4e08d",
   "metadata": {},
   "outputs": [],
   "source": [
    "# Variable selection for Training the model\n",
    "X = df.drop(columns=['target','age', 'workclass', 'fnlwgt', 'education-num', 'marital-status',\n",
    "       'occupation', 'relationship', 'sex', 'capital-gain','capital-loss', 'hours-per-week'])\n",
    "y = df['target']"
   ]
  },
  {
   "cell_type": "code",
   "execution_count": 26,
   "id": "5eb5387f-f04a-4dc5-aa19-0ecfd8ed36d2",
   "metadata": {},
   "outputs": [
    {
     "data": {
      "text/html": [
       "<div>\n",
       "<style scoped>\n",
       "    .dataframe tbody tr th:only-of-type {\n",
       "        vertical-align: middle;\n",
       "    }\n",
       "\n",
       "    .dataframe tbody tr th {\n",
       "        vertical-align: top;\n",
       "    }\n",
       "\n",
       "    .dataframe thead th {\n",
       "        text-align: right;\n",
       "    }\n",
       "</style>\n",
       "<table border=\"1\" class=\"dataframe\">\n",
       "  <thead>\n",
       "    <tr style=\"text-align: right;\">\n",
       "      <th></th>\n",
       "      <th>workclass_Federal-gov</th>\n",
       "      <th>workclass_Local-gov</th>\n",
       "      <th>workclass_Private</th>\n",
       "      <th>workclass_Self-emp-inc</th>\n",
       "      <th>workclass_Self-emp-not-inc</th>\n",
       "      <th>workclass_State-gov</th>\n",
       "      <th>marital-status_Divorced</th>\n",
       "      <th>marital-status_Married-AF-spouse</th>\n",
       "      <th>marital-status_Married-civ-spouse</th>\n",
       "      <th>marital-status_Married-spouse-absent</th>\n",
       "      <th>...</th>\n",
       "      <th>relationship_Not-in-family</th>\n",
       "      <th>relationship_Other-relative</th>\n",
       "      <th>relationship_Own-child</th>\n",
       "      <th>relationship_Unmarried</th>\n",
       "      <th>relationship_Wife</th>\n",
       "      <th>sex_Female</th>\n",
       "      <th>sex_Male</th>\n",
       "      <th>age_scaled</th>\n",
       "      <th>hpw_scaled</th>\n",
       "      <th>education_scaled</th>\n",
       "    </tr>\n",
       "  </thead>\n",
       "  <tbody>\n",
       "    <tr>\n",
       "      <th>1</th>\n",
       "      <td>0</td>\n",
       "      <td>0</td>\n",
       "      <td>0</td>\n",
       "      <td>0</td>\n",
       "      <td>0</td>\n",
       "      <td>1</td>\n",
       "      <td>0</td>\n",
       "      <td>0</td>\n",
       "      <td>0</td>\n",
       "      <td>0</td>\n",
       "      <td>...</td>\n",
       "      <td>1</td>\n",
       "      <td>0</td>\n",
       "      <td>0</td>\n",
       "      <td>0</td>\n",
       "      <td>0</td>\n",
       "      <td>0</td>\n",
       "      <td>1</td>\n",
       "      <td>0.035737</td>\n",
       "      <td>-0.058841</td>\n",
       "      <td>1.129579</td>\n",
       "    </tr>\n",
       "    <tr>\n",
       "      <th>2</th>\n",
       "      <td>0</td>\n",
       "      <td>0</td>\n",
       "      <td>0</td>\n",
       "      <td>0</td>\n",
       "      <td>1</td>\n",
       "      <td>0</td>\n",
       "      <td>0</td>\n",
       "      <td>0</td>\n",
       "      <td>1</td>\n",
       "      <td>0</td>\n",
       "      <td>...</td>\n",
       "      <td>0</td>\n",
       "      <td>0</td>\n",
       "      <td>0</td>\n",
       "      <td>0</td>\n",
       "      <td>0</td>\n",
       "      <td>0</td>\n",
       "      <td>1</td>\n",
       "      <td>0.868263</td>\n",
       "      <td>-2.429632</td>\n",
       "      <td>1.129579</td>\n",
       "    </tr>\n",
       "    <tr>\n",
       "      <th>3</th>\n",
       "      <td>0</td>\n",
       "      <td>0</td>\n",
       "      <td>1</td>\n",
       "      <td>0</td>\n",
       "      <td>0</td>\n",
       "      <td>0</td>\n",
       "      <td>1</td>\n",
       "      <td>0</td>\n",
       "      <td>0</td>\n",
       "      <td>0</td>\n",
       "      <td>...</td>\n",
       "      <td>1</td>\n",
       "      <td>0</td>\n",
       "      <td>0</td>\n",
       "      <td>0</td>\n",
       "      <td>0</td>\n",
       "      <td>0</td>\n",
       "      <td>1</td>\n",
       "      <td>-0.039947</td>\n",
       "      <td>-0.058841</td>\n",
       "      <td>-0.438959</td>\n",
       "    </tr>\n",
       "    <tr>\n",
       "      <th>4</th>\n",
       "      <td>0</td>\n",
       "      <td>0</td>\n",
       "      <td>1</td>\n",
       "      <td>0</td>\n",
       "      <td>0</td>\n",
       "      <td>0</td>\n",
       "      <td>0</td>\n",
       "      <td>0</td>\n",
       "      <td>1</td>\n",
       "      <td>0</td>\n",
       "      <td>...</td>\n",
       "      <td>0</td>\n",
       "      <td>0</td>\n",
       "      <td>0</td>\n",
       "      <td>0</td>\n",
       "      <td>0</td>\n",
       "      <td>0</td>\n",
       "      <td>1</td>\n",
       "      <td>1.095316</td>\n",
       "      <td>-0.058841</td>\n",
       "      <td>-1.223228</td>\n",
       "    </tr>\n",
       "    <tr>\n",
       "      <th>5</th>\n",
       "      <td>0</td>\n",
       "      <td>0</td>\n",
       "      <td>1</td>\n",
       "      <td>0</td>\n",
       "      <td>0</td>\n",
       "      <td>0</td>\n",
       "      <td>0</td>\n",
       "      <td>0</td>\n",
       "      <td>1</td>\n",
       "      <td>0</td>\n",
       "      <td>...</td>\n",
       "      <td>0</td>\n",
       "      <td>0</td>\n",
       "      <td>0</td>\n",
       "      <td>0</td>\n",
       "      <td>1</td>\n",
       "      <td>1</td>\n",
       "      <td>0</td>\n",
       "      <td>-0.796789</td>\n",
       "      <td>-0.058841</td>\n",
       "      <td>1.129579</td>\n",
       "    </tr>\n",
       "  </tbody>\n",
       "</table>\n",
       "<p>5 rows × 38 columns</p>\n",
       "</div>"
      ],
      "text/plain": [
       "   workclass_Federal-gov  workclass_Local-gov  workclass_Private  \\\n",
       "1                      0                    0                  0   \n",
       "2                      0                    0                  0   \n",
       "3                      0                    0                  1   \n",
       "4                      0                    0                  1   \n",
       "5                      0                    0                  1   \n",
       "\n",
       "   workclass_Self-emp-inc  workclass_Self-emp-not-inc  workclass_State-gov  \\\n",
       "1                       0                           0                    1   \n",
       "2                       0                           1                    0   \n",
       "3                       0                           0                    0   \n",
       "4                       0                           0                    0   \n",
       "5                       0                           0                    0   \n",
       "\n",
       "   marital-status_Divorced  marital-status_Married-AF-spouse  \\\n",
       "1                        0                                 0   \n",
       "2                        0                                 0   \n",
       "3                        1                                 0   \n",
       "4                        0                                 0   \n",
       "5                        0                                 0   \n",
       "\n",
       "   marital-status_Married-civ-spouse  marital-status_Married-spouse-absent  \\\n",
       "1                                  0                                     0   \n",
       "2                                  1                                     0   \n",
       "3                                  0                                     0   \n",
       "4                                  1                                     0   \n",
       "5                                  1                                     0   \n",
       "\n",
       "   ...  relationship_Not-in-family  relationship_Other-relative  \\\n",
       "1  ...                           1                            0   \n",
       "2  ...                           0                            0   \n",
       "3  ...                           1                            0   \n",
       "4  ...                           0                            0   \n",
       "5  ...                           0                            0   \n",
       "\n",
       "   relationship_Own-child  relationship_Unmarried  relationship_Wife  \\\n",
       "1                       0                       0                  0   \n",
       "2                       0                       0                  0   \n",
       "3                       0                       0                  0   \n",
       "4                       0                       0                  0   \n",
       "5                       0                       0                  1   \n",
       "\n",
       "   sex_Female  sex_Male  age_scaled  hpw_scaled  education_scaled  \n",
       "1           0         1    0.035737   -0.058841          1.129579  \n",
       "2           0         1    0.868263   -2.429632          1.129579  \n",
       "3           0         1   -0.039947   -0.058841         -0.438959  \n",
       "4           0         1    1.095316   -0.058841         -1.223228  \n",
       "5           1         0   -0.796789   -0.058841          1.129579  \n",
       "\n",
       "[5 rows x 38 columns]"
      ]
     },
     "execution_count": 26,
     "metadata": {},
     "output_type": "execute_result"
    }
   ],
   "source": [
    "X.head()"
   ]
  },
  {
   "cell_type": "code",
   "execution_count": 27,
   "id": "1bc2b13d-52b5-4f62-8db0-2483ad352e59",
   "metadata": {},
   "outputs": [],
   "source": [
    "from sklearn.model_selection import train_test_split\n",
    "\n",
    "# Split the dataset (80-20)\n",
    "X_train, X_test, y_train, y_test=train_test_split(X, y, test_size=0.2, random_state=42)"
   ]
  },
  {
   "cell_type": "code",
   "execution_count": 28,
   "id": "e05fd2e5-e5b5-4d81-86b8-df06b38a4275",
   "metadata": {},
   "outputs": [
    {
     "name": "stderr",
     "output_type": "stream",
     "text": [
      "C:\\Users\\dc\\AppData\\Roaming\\Python\\Python38\\site-packages\\sklearn\\svm\\_classes.py:32: FutureWarning: The default value of `dual` will change from `True` to `'auto'` in 1.5. Set the value of `dual` explicitly to suppress the warning.\n",
      "  warnings.warn(\n"
     ]
    }
   ],
   "source": [
    "# Classification Task\n",
    "# Support Vector Machine (B. Priya)\n",
    "from sklearn import svm, metrics\n",
    "\n",
    "svc = svm.LinearSVC(C=1)\n",
    "svc.fit(X_train,y_train)\n",
    "\n",
    "# Predict the labels for the test set\n",
    "y_pred = svc.predict(X_test)\n",
    "\n",
    "#accuracy = metrics.accuracy_score(y_test, y_pred)\n",
    "#confusion_matrix = metrics.confusion_matrix(y_test, y_pred)\n",
    "#print(f\"{accuracy=:.2f} and the confusion matrix is:\")\n",
    "#print(confusion_matrix)"
   ]
  },
  {
   "cell_type": "code",
   "execution_count": 29,
   "id": "5ea78aa1-20e5-4108-9a57-dc2532b76b0d",
   "metadata": {},
   "outputs": [
    {
     "data": {
      "text/plain": [
       "{'C': 1,\n",
       " 'class_weight': None,\n",
       " 'dual': 'warn',\n",
       " 'fit_intercept': True,\n",
       " 'intercept_scaling': 1,\n",
       " 'loss': 'squared_hinge',\n",
       " 'max_iter': 1000,\n",
       " 'multi_class': 'ovr',\n",
       " 'penalty': 'l2',\n",
       " 'random_state': None,\n",
       " 'tol': 0.0001,\n",
       " 'verbose': 0}"
      ]
     },
     "execution_count": 29,
     "metadata": {},
     "output_type": "execute_result"
    }
   ],
   "source": [
    "svc.get_params()"
   ]
  },
  {
   "cell_type": "code",
   "execution_count": 30,
   "id": "045403a8-c341-485d-89bd-f98ee4fd9e05",
   "metadata": {},
   "outputs": [
    {
     "name": "stdout",
     "output_type": "stream",
     "text": [
      "accuracy=0.83 and the confusion matrix is:\n",
      "[[6224  530]\n",
      " [ 962 1274]]\n",
      "The precision score of the model is: 0.706208\n"
     ]
    }
   ],
   "source": [
    "# Model performance\n",
    "#------------------\n",
    "accuracy = metrics.accuracy_score(y_test, y_pred)\n",
    "confusion_matrix = metrics.confusion_matrix(y_test, y_pred)\n",
    "precision_score = metrics.precision_score(y_test, y_pred)\n",
    "print(f\"{accuracy=:.2f} and the confusion matrix is:\")\n",
    "print(confusion_matrix)\n",
    "print(\"The precision score of the model is: {0:f}\".format(precision_score))"
   ]
  },
  {
   "cell_type": "code",
   "execution_count": 31,
   "id": "dcdf6c92-864f-4116-aa1a-07f211a5cba1",
   "metadata": {},
   "outputs": [],
   "source": [
    "# Clustering Task\n",
    "# KMeans clustering"
   ]
  },
  {
   "cell_type": "code",
   "execution_count": 32,
   "id": "e74ce3ba-0dd0-408c-8fa7-74da76820c29",
   "metadata": {},
   "outputs": [],
   "source": [
    "X2 = df[['age_scaled','hpw_scaled','education_scaled']]\n",
    "# Split the dataset (80-20)\n",
    "X_train2, X_test2, y_train2, y_test2=train_test_split(X2, y, test_size=0.2, random_state=42)"
   ]
  },
  {
   "cell_type": "code",
   "execution_count": 33,
   "id": "7828fdee-f0b7-48bd-801c-186b381ae195",
   "metadata": {},
   "outputs": [],
   "source": [
    "# Classification task - To use a plot and determine the ideal number of clusters\n",
    "# KMeans Algorithm with plot to determine ideal K\n",
    "# https://scikit-learn.org/stable/modules/generated/sklearn.cluster.k_means.html\n",
    "from sklearn.cluster import KMeans"
   ]
  },
  {
   "cell_type": "code",
   "execution_count": 34,
   "id": "030b8a96-647f-42a5-baba-2a85d676c641",
   "metadata": {},
   "outputs": [
    {
     "name": "stdout",
     "output_type": "stream",
     "text": [
      "n_clusters = 2, silhouette_score 0.246002\n",
      "n_clusters = 3, silhouette_score 0.291999\n",
      "n_clusters = 4, silhouette_score 0.312766\n",
      "n_clusters = 5, silhouette_score 0.326650\n",
      "n_clusters = 6, silhouette_score 0.336387\n",
      "n_clusters = 7, silhouette_score 0.339104\n",
      "n_clusters = 8, silhouette_score 0.337577\n",
      "n_clusters = 9, silhouette_score 0.306396\n",
      "n_clusters = 10, silhouette_score 0.315914\n"
     ]
    }
   ],
   "source": [
    "n_clusters = [2,3,4,5,6,7,8,9,10] \n",
    "for k in n_clusters:\n",
    "    kmeans2 = KMeans(n_clusters=k,init='k-means++',n_init=10,random_state=42).fit(X_train2)\n",
    "    cluster_labels = kmeans2.predict(X_test2)\n",
    "    S = metrics.silhouette_score(X_test2, cluster_labels)\n",
    "    print(\"n_clusters = {:d}, silhouette_score {:1f}\".format(k,S))"
   ]
  },
  {
   "cell_type": "code",
   "execution_count": 35,
   "id": "2a14cd22-717f-4518-b4bf-ec7c5d77cd01",
   "metadata": {},
   "outputs": [],
   "source": [
    "kmeans_final = KMeans(n_clusters=7,init='k-means++',n_init=10,random_state=42).fit(X_train2)"
   ]
  },
  {
   "cell_type": "code",
   "execution_count": 36,
   "id": "f67589c6-40e7-4e44-b7ac-6d07c3fb2108",
   "metadata": {},
   "outputs": [
    {
     "data": {
      "text/plain": [
       "array([[-0.67393043,  0.03215463, -0.3107357 ],\n",
       "       [ 1.92276882, -1.86558339, -0.1018082 ],\n",
       "       [ 0.0473853 ,  0.21465555,  1.27996721],\n",
       "       [ 0.11763542,  1.97372851,  0.19655096],\n",
       "       [ 0.96010148,  0.04745446, -0.21201064],\n",
       "       [-1.15349353, -1.76277885, -0.25552617],\n",
       "       [ 0.42517521, -0.04439356, -2.22198663]])"
      ]
     },
     "execution_count": 36,
     "metadata": {},
     "output_type": "execute_result"
    }
   ],
   "source": [
    "kmeans_final.cluster_centers_"
   ]
  },
  {
   "cell_type": "code",
   "execution_count": 37,
   "id": "5e4dc0f7-72cf-4a06-99a1-0d693c1a4bbc",
   "metadata": {
    "tags": []
   },
   "outputs": [
    {
     "name": "stdout",
     "output_type": "stream",
     "text": [
      "33773.54186246601\n",
      "12\n",
      "3\n"
     ]
    }
   ],
   "source": [
    "print(kmeans_final.inertia_)\n",
    "print(kmeans_final.n_iter_)\n",
    "print(kmeans_final.n_features_in_)"
   ]
  },
  {
   "cell_type": "code",
   "execution_count": 38,
   "id": "6fb911c5-6233-4689-8100-0daf7b2f4a18",
   "metadata": {},
   "outputs": [
    {
     "data": {
      "text/html": [
       "<details>\n",
       "<summary>Click to view session information</summary>\n",
       "<pre>\n",
       "-----\n",
       "matplotlib          3.4.2\n",
       "numpy               1.24.4\n",
       "pandas              1.3.2\n",
       "scipy               1.9.3\n",
       "seaborn             0.12.2\n",
       "session_info        1.0.0\n",
       "sklearn             1.3.1\n",
       "ucimlrepo           NA\n",
       "-----\n",
       "</pre>\n",
       "<details>\n",
       "<summary>Click to view modules imported as dependencies</summary>\n",
       "<pre>\n",
       "PIL                 8.2.0\n",
       "anyio               NA\n",
       "attr                20.3.0\n",
       "babel               2.9.1\n",
       "backcall            0.2.0\n",
       "certifi             2021.10.08\n",
       "cffi                1.14.5\n",
       "charset_normalizer  2.0.7\n",
       "colorama            0.4.4\n",
       "cycler              0.10.0\n",
       "cython_runtime      NA\n",
       "dateutil            2.8.1\n",
       "decorator           5.0.7\n",
       "entrypoints         0.3\n",
       "idna                3.3\n",
       "ipykernel           5.5.3\n",
       "ipython_genutils    0.2.0\n",
       "ipywidgets          7.6.3\n",
       "jedi                0.18.0\n",
       "jinja2              2.11.3\n",
       "joblib              1.2.0\n",
       "json5               NA\n",
       "jsonschema          3.2.0\n",
       "jupyter_server      1.11.1\n",
       "jupyterlab_server   2.8.2\n",
       "kiwisolver          1.3.1\n",
       "markupsafe          1.1.1\n",
       "mpl_toolkits        NA\n",
       "nbclassic           NA\n",
       "nbformat            5.1.3\n",
       "nt                  NA\n",
       "ntsecuritycon       NA\n",
       "packaging           23.0\n",
       "parso               0.8.2\n",
       "pickleshare         0.7.5\n",
       "prometheus_client   NA\n",
       "prompt_toolkit      3.0.18\n",
       "psutil              5.8.0\n",
       "pvectorc            NA\n",
       "pygments            2.8.1\n",
       "pyparsing           2.4.7\n",
       "pyrsistent          NA\n",
       "pythoncom           NA\n",
       "pytz                2021.1\n",
       "pywin32_bootstrap   NA\n",
       "pywintypes          NA\n",
       "requests            2.28.2\n",
       "send2trash          NA\n",
       "simplejson          3.17.5\n",
       "six                 1.15.0\n",
       "sniffio             1.2.0\n",
       "statsmodels         0.13.5\n",
       "storemagic          NA\n",
       "terminado           0.9.4\n",
       "threadpoolctl       3.2.0\n",
       "tornado             6.1\n",
       "traitlets           5.0.5\n",
       "typing_extensions   NA\n",
       "urllib3             1.26.7\n",
       "wcwidth             0.2.5\n",
       "websocket           1.2.1\n",
       "win32api            NA\n",
       "win32com            NA\n",
       "win32security       NA\n",
       "winpty              1.0.1\n",
       "zmq                 22.0.3\n",
       "</pre>\n",
       "</details> <!-- seems like this ends pre, so might as well be explicit -->\n",
       "<pre>\n",
       "-----\n",
       "IPython             7.22.0\n",
       "jupyter_client      6.1.12\n",
       "jupyter_core        4.7.1\n",
       "jupyterlab          3.2.0\n",
       "notebook            6.3.0\n",
       "-----\n",
       "Python 3.8.2 (tags/v3.8.2:7b3ab59, Feb 25 2020, 23:03:10) [MSC v.1916 64 bit (AMD64)]\n",
       "Windows-10-10.0.19041-SP0\n",
       "-----\n",
       "Session information updated at 2023-11-20 00:00\n",
       "</pre>\n",
       "</details>"
      ],
      "text/plain": [
       "<IPython.core.display.HTML object>"
      ]
     },
     "execution_count": 38,
     "metadata": {},
     "output_type": "execute_result"
    }
   ],
   "source": [
    "session_info.show()"
   ]
  },
  {
   "cell_type": "code",
   "execution_count": null,
   "id": "f5e7aaca-35be-4f96-85ad-d1ab8f5d0e8b",
   "metadata": {},
   "outputs": [],
   "source": []
  },
  {
   "cell_type": "code",
   "execution_count": null,
   "id": "afab02d5-d0d5-43ae-a056-ad727ef7163e",
   "metadata": {},
   "outputs": [],
   "source": []
  },
  {
   "cell_type": "code",
   "execution_count": null,
   "id": "ff5588de-7c82-4a05-a06b-b8a8600a5947",
   "metadata": {},
   "outputs": [],
   "source": []
  },
  {
   "cell_type": "code",
   "execution_count": null,
   "id": "1f128314-70bb-45ed-b0bd-1be835f3d322",
   "metadata": {},
   "outputs": [],
   "source": []
  },
  {
   "cell_type": "code",
   "execution_count": null,
   "id": "09e5e096-624c-430b-81b9-c12200bd3fb1",
   "metadata": {},
   "outputs": [],
   "source": []
  },
  {
   "cell_type": "code",
   "execution_count": null,
   "id": "ee7cc061-713f-463d-a498-d1def2bb31ab",
   "metadata": {},
   "outputs": [],
   "source": []
  },
  {
   "cell_type": "code",
   "execution_count": null,
   "id": "a8898102-b092-4f38-9532-6393d3dd99ad",
   "metadata": {},
   "outputs": [],
   "source": []
  },
  {
   "cell_type": "code",
   "execution_count": null,
   "id": "632bf2c0-5925-433a-8ed7-e30667ad125e",
   "metadata": {},
   "outputs": [],
   "source": []
  },
  {
   "cell_type": "code",
   "execution_count": null,
   "id": "d37f39fd-3735-4c13-9fe5-c3ca92f8f38c",
   "metadata": {},
   "outputs": [],
   "source": []
  },
  {
   "cell_type": "code",
   "execution_count": null,
   "id": "01a7bb25-dde1-4be6-a91b-86d5641b0c8f",
   "metadata": {},
   "outputs": [],
   "source": []
  },
  {
   "cell_type": "code",
   "execution_count": null,
   "id": "28167fab-e668-45a6-b955-06d45ef17adc",
   "metadata": {},
   "outputs": [],
   "source": []
  }
 ],
 "metadata": {
  "kernelspec": {
   "display_name": "Python 3",
   "language": "python",
   "name": "python3"
  },
  "language_info": {
   "codemirror_mode": {
    "name": "ipython",
    "version": 3
   },
   "file_extension": ".py",
   "mimetype": "text/x-python",
   "name": "python",
   "nbconvert_exporter": "python",
   "pygments_lexer": "ipython3",
   "version": "3.8.2"
  }
 },
 "nbformat": 4,
 "nbformat_minor": 5
}
